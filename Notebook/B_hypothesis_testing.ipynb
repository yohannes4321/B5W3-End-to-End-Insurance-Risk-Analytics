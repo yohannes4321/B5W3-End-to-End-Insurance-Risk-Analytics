{
 "cells": [
  {
   "cell_type": "markdown",
   "id": "2f898b74",
   "metadata": {},
   "source": [
    "A/B Hypothesis Testing\n",
    "Claim Frequency  and Claim Severity   \n",
    "\n",
    "Margin = TotalPremium - TotalClaims"
   ]
  },
  {
   "cell_type": "markdown",
   "id": "a26bc316",
   "metadata": {},
   "source": []
  },
  {
   "cell_type": "code",
   "execution_count": 1,
   "id": "54628140",
   "metadata": {},
   "outputs": [],
   "source": [
    "import pandas as pd\n",
    "from scipy import stats"
   ]
  },
  {
   "cell_type": "code",
   "execution_count": 2,
   "id": "9e3ac372",
   "metadata": {},
   "outputs": [
    {
     "name": "stderr",
     "output_type": "stream",
     "text": [
      "C:\\Users\\Hp\\AppData\\Local\\Temp\\ipykernel_17452\\3239025493.py:1: DtypeWarning: Columns (0,1,3,14,18,20,23,24,25,27,29,32,37,38,39,41,50,51) have mixed types. Specify dtype option on import or set low_memory=False.\n",
      "  df=pd.read_csv('MachineLearningRating_v3.txt',sep='|')\n"
     ]
    }
   ],
   "source": [
    "df=pd.read_csv('MachineLearningRating_v3.txt',sep='|')"
   ]
  },
  {
   "cell_type": "code",
   "execution_count": 30,
   "id": "336949d9",
   "metadata": {},
   "outputs": [
    {
     "data": {
      "text/html": [
       "<div>\n",
       "<style scoped>\n",
       "    .dataframe tbody tr th:only-of-type {\n",
       "        vertical-align: middle;\n",
       "    }\n",
       "\n",
       "    .dataframe tbody tr th {\n",
       "        vertical-align: top;\n",
       "    }\n",
       "\n",
       "    .dataframe thead th {\n",
       "        text-align: right;\n",
       "    }\n",
       "</style>\n",
       "<table border=\"1\" class=\"dataframe\">\n",
       "  <thead>\n",
       "    <tr style=\"text-align: right;\">\n",
       "      <th></th>\n",
       "      <th>UnderwrittenCoverID</th>\n",
       "      <th>PolicyID</th>\n",
       "      <th>TransactionMonth</th>\n",
       "      <th>IsVATRegistered</th>\n",
       "      <th>Citizenship</th>\n",
       "      <th>LegalType</th>\n",
       "      <th>Title</th>\n",
       "      <th>Language</th>\n",
       "      <th>Bank</th>\n",
       "      <th>AccountType</th>\n",
       "      <th>...</th>\n",
       "      <th>CoverCategory</th>\n",
       "      <th>CoverType</th>\n",
       "      <th>CoverGroup</th>\n",
       "      <th>Section</th>\n",
       "      <th>Product</th>\n",
       "      <th>StatutoryClass</th>\n",
       "      <th>StatutoryRiskType</th>\n",
       "      <th>TotalPremium</th>\n",
       "      <th>TotalClaims</th>\n",
       "      <th>HasClaim</th>\n",
       "    </tr>\n",
       "  </thead>\n",
       "  <tbody>\n",
       "    <tr>\n",
       "      <th>0</th>\n",
       "      <td>145249</td>\n",
       "      <td>12827</td>\n",
       "      <td>2015-03-01 00:00:00</td>\n",
       "      <td>True</td>\n",
       "      <td></td>\n",
       "      <td>Close Corporation</td>\n",
       "      <td>Mr</td>\n",
       "      <td>English</td>\n",
       "      <td>First National Bank</td>\n",
       "      <td>Current account</td>\n",
       "      <td>...</td>\n",
       "      <td>Windscreen</td>\n",
       "      <td>Windscreen</td>\n",
       "      <td>Comprehensive - Taxi</td>\n",
       "      <td>Motor Comprehensive</td>\n",
       "      <td>Mobility Metered Taxis: Monthly</td>\n",
       "      <td>Commercial</td>\n",
       "      <td>IFRS Constant</td>\n",
       "      <td>21.929825</td>\n",
       "      <td>0.0</td>\n",
       "      <td>0</td>\n",
       "    </tr>\n",
       "    <tr>\n",
       "      <th>1</th>\n",
       "      <td>145249</td>\n",
       "      <td>12827</td>\n",
       "      <td>2015-05-01 00:00:00</td>\n",
       "      <td>True</td>\n",
       "      <td></td>\n",
       "      <td>Close Corporation</td>\n",
       "      <td>Mr</td>\n",
       "      <td>English</td>\n",
       "      <td>First National Bank</td>\n",
       "      <td>Current account</td>\n",
       "      <td>...</td>\n",
       "      <td>Windscreen</td>\n",
       "      <td>Windscreen</td>\n",
       "      <td>Comprehensive - Taxi</td>\n",
       "      <td>Motor Comprehensive</td>\n",
       "      <td>Mobility Metered Taxis: Monthly</td>\n",
       "      <td>Commercial</td>\n",
       "      <td>IFRS Constant</td>\n",
       "      <td>21.929825</td>\n",
       "      <td>0.0</td>\n",
       "      <td>0</td>\n",
       "    </tr>\n",
       "    <tr>\n",
       "      <th>2</th>\n",
       "      <td>145249</td>\n",
       "      <td>12827</td>\n",
       "      <td>2015-07-01 00:00:00</td>\n",
       "      <td>True</td>\n",
       "      <td></td>\n",
       "      <td>Close Corporation</td>\n",
       "      <td>Mr</td>\n",
       "      <td>English</td>\n",
       "      <td>First National Bank</td>\n",
       "      <td>Current account</td>\n",
       "      <td>...</td>\n",
       "      <td>Windscreen</td>\n",
       "      <td>Windscreen</td>\n",
       "      <td>Comprehensive - Taxi</td>\n",
       "      <td>Motor Comprehensive</td>\n",
       "      <td>Mobility Metered Taxis: Monthly</td>\n",
       "      <td>Commercial</td>\n",
       "      <td>IFRS Constant</td>\n",
       "      <td>0.0</td>\n",
       "      <td>0.0</td>\n",
       "      <td>0</td>\n",
       "    </tr>\n",
       "    <tr>\n",
       "      <th>3</th>\n",
       "      <td>145255</td>\n",
       "      <td>12827</td>\n",
       "      <td>2015-05-01 00:00:00</td>\n",
       "      <td>True</td>\n",
       "      <td></td>\n",
       "      <td>Close Corporation</td>\n",
       "      <td>Mr</td>\n",
       "      <td>English</td>\n",
       "      <td>First National Bank</td>\n",
       "      <td>Current account</td>\n",
       "      <td>...</td>\n",
       "      <td>Own damage</td>\n",
       "      <td>Own Damage</td>\n",
       "      <td>Comprehensive - Taxi</td>\n",
       "      <td>Motor Comprehensive</td>\n",
       "      <td>Mobility Metered Taxis: Monthly</td>\n",
       "      <td>Commercial</td>\n",
       "      <td>IFRS Constant</td>\n",
       "      <td>512.84807</td>\n",
       "      <td>0.0</td>\n",
       "      <td>0</td>\n",
       "    </tr>\n",
       "    <tr>\n",
       "      <th>4</th>\n",
       "      <td>145255</td>\n",
       "      <td>12827</td>\n",
       "      <td>2015-07-01 00:00:00</td>\n",
       "      <td>True</td>\n",
       "      <td></td>\n",
       "      <td>Close Corporation</td>\n",
       "      <td>Mr</td>\n",
       "      <td>English</td>\n",
       "      <td>First National Bank</td>\n",
       "      <td>Current account</td>\n",
       "      <td>...</td>\n",
       "      <td>Own damage</td>\n",
       "      <td>Own Damage</td>\n",
       "      <td>Comprehensive - Taxi</td>\n",
       "      <td>Motor Comprehensive</td>\n",
       "      <td>Mobility Metered Taxis: Monthly</td>\n",
       "      <td>Commercial</td>\n",
       "      <td>IFRS Constant</td>\n",
       "      <td>0.0</td>\n",
       "      <td>0.0</td>\n",
       "      <td>0</td>\n",
       "    </tr>\n",
       "  </tbody>\n",
       "</table>\n",
       "<p>5 rows × 53 columns</p>\n",
       "</div>"
      ],
      "text/plain": [
       "  UnderwrittenCoverID PolicyID     TransactionMonth IsVATRegistered  \\\n",
       "0              145249    12827  2015-03-01 00:00:00            True   \n",
       "1              145249    12827  2015-05-01 00:00:00            True   \n",
       "2              145249    12827  2015-07-01 00:00:00            True   \n",
       "3              145255    12827  2015-05-01 00:00:00            True   \n",
       "4              145255    12827  2015-07-01 00:00:00            True   \n",
       "\n",
       "  Citizenship          LegalType Title Language                 Bank  \\\n",
       "0              Close Corporation    Mr  English  First National Bank   \n",
       "1              Close Corporation    Mr  English  First National Bank   \n",
       "2              Close Corporation    Mr  English  First National Bank   \n",
       "3              Close Corporation    Mr  English  First National Bank   \n",
       "4              Close Corporation    Mr  English  First National Bank   \n",
       "\n",
       "       AccountType  ... CoverCategory   CoverType            CoverGroup  \\\n",
       "0  Current account  ...    Windscreen  Windscreen  Comprehensive - Taxi   \n",
       "1  Current account  ...    Windscreen  Windscreen  Comprehensive - Taxi   \n",
       "2  Current account  ...    Windscreen  Windscreen  Comprehensive - Taxi   \n",
       "3  Current account  ...    Own damage  Own Damage  Comprehensive - Taxi   \n",
       "4  Current account  ...    Own damage  Own Damage  Comprehensive - Taxi   \n",
       "\n",
       "               Section                          Product StatutoryClass  \\\n",
       "0  Motor Comprehensive  Mobility Metered Taxis: Monthly     Commercial   \n",
       "1  Motor Comprehensive  Mobility Metered Taxis: Monthly     Commercial   \n",
       "2  Motor Comprehensive  Mobility Metered Taxis: Monthly     Commercial   \n",
       "3  Motor Comprehensive  Mobility Metered Taxis: Monthly     Commercial   \n",
       "4  Motor Comprehensive  Mobility Metered Taxis: Monthly     Commercial   \n",
       "\n",
       "  StatutoryRiskType TotalPremium TotalClaims HasClaim  \n",
       "0     IFRS Constant    21.929825         0.0        0  \n",
       "1     IFRS Constant    21.929825         0.0        0  \n",
       "2     IFRS Constant          0.0         0.0        0  \n",
       "3     IFRS Constant    512.84807         0.0        0  \n",
       "4     IFRS Constant          0.0         0.0        0  \n",
       "\n",
       "[5 rows x 53 columns]"
      ]
     },
     "execution_count": 30,
     "metadata": {},
     "output_type": "execute_result"
    }
   ],
   "source": [
    "df.head()"
   ]
  },
  {
   "cell_type": "markdown",
   "id": "067b1e4a",
   "metadata": {},
   "source": [
    "H₀:There are no risk differences across provinces "
   ]
  },
  {
   "cell_type": "code",
   "execution_count": 80,
   "id": "0de862bb",
   "metadata": {},
   "outputs": [
    {
     "data": {
      "text/html": [
       "<div>\n",
       "<style scoped>\n",
       "    .dataframe tbody tr th:only-of-type {\n",
       "        vertical-align: middle;\n",
       "    }\n",
       "\n",
       "    .dataframe tbody tr th {\n",
       "        vertical-align: top;\n",
       "    }\n",
       "\n",
       "    .dataframe thead th {\n",
       "        text-align: right;\n",
       "    }\n",
       "</style>\n",
       "<table border=\"1\" class=\"dataframe\">\n",
       "  <thead>\n",
       "    <tr style=\"text-align: right;\">\n",
       "      <th></th>\n",
       "      <th>UnderwrittenCoverID</th>\n",
       "      <th>PolicyID</th>\n",
       "      <th>TransactionMonth</th>\n",
       "      <th>IsVATRegistered</th>\n",
       "      <th>Citizenship</th>\n",
       "      <th>LegalType</th>\n",
       "      <th>Title</th>\n",
       "      <th>Language</th>\n",
       "      <th>Bank</th>\n",
       "      <th>AccountType</th>\n",
       "      <th>...</th>\n",
       "      <th>Section</th>\n",
       "      <th>Product</th>\n",
       "      <th>StatutoryClass</th>\n",
       "      <th>StatutoryRiskType</th>\n",
       "      <th>TotalPremium</th>\n",
       "      <th>TotalClaims</th>\n",
       "      <th>HasClaim</th>\n",
       "      <th>want</th>\n",
       "      <th>ClaimSeverity</th>\n",
       "      <th>margin</th>\n",
       "    </tr>\n",
       "  </thead>\n",
       "  <tbody>\n",
       "  </tbody>\n",
       "</table>\n",
       "<p>0 rows × 56 columns</p>\n",
       "</div>"
      ],
      "text/plain": [
       "Empty DataFrame\n",
       "Columns: [UnderwrittenCoverID, PolicyID, TransactionMonth, IsVATRegistered, Citizenship, LegalType, Title, Language, Bank, AccountType, MaritalStatus, Gender, Country, Province, PostalCode, MainCrestaZone, SubCrestaZone, ItemType, mmcode, VehicleType, RegistrationYear, make, Model, Cylinders, cubiccapacity, kilowatts, bodytype, NumberOfDoors, VehicleIntroDate, CustomValueEstimate, AlarmImmobiliser, TrackingDevice, CapitalOutstanding, NewVehicle, WrittenOff, Rebuilt, Converted, CrossBorder, NumberOfVehiclesInFleet, SumInsured, TermFrequency, CalculatedPremiumPerTerm, ExcessSelected, CoverCategory, CoverType, CoverGroup, Section, Product, StatutoryClass, StatutoryRiskType, TotalPremium, TotalClaims, HasClaim, want, ClaimSeverity, margin]\n",
       "Index: []\n",
       "\n",
       "[0 rows x 56 columns]"
      ]
     },
     "execution_count": 80,
     "metadata": {},
     "output_type": "execute_result"
    }
   ],
   "source": [
    "df.dropna()"
   ]
  },
  {
   "cell_type": "code",
   "execution_count": 84,
   "id": "bd738148",
   "metadata": {},
   "outputs": [],
   "source": [
    "\n",
    "import numpy as np\n",
    "df['TotalClaims']=pd.to_numeric(df['TotalClaims'],errors='coerce')\n",
    "df['ClaimSeverity']=pd.to_numeric(df['ClaimSeverity'])\n",
    "df['HasClaim']=df['TotalClaims'].apply(lambda x:1 if x >0 else 0)\n",
    "df['ClaimSeverity']=df.apply(lambda x: x['TotalClaims'] if x['HasClaim'] >0 else np.nan ,axis=1)\n",
    "df['TotalPremium']=pd.to_numeric(df['TotalPremium'],errors='coerce')\n",
    "df['margin']=df['TotalPremium']-df['TotalClaims']\n",
    "\n"
   ]
  },
  {
   "cell_type": "markdown",
   "id": "64bf2b07",
   "metadata": {},
   "source": [
    "H₀:There are no risk differences across provinces "
   ]
  },
  {
   "cell_type": "code",
   "execution_count": 120,
   "id": "62650693",
   "metadata": {},
   "outputs": [
    {
     "data": {
      "text/plain": [
       "Province\n",
       "Gauteng         787730\n",
       "Western Cape    341592\n",
       "Name: count, dtype: int64"
      ]
     },
     "execution_count": 120,
     "metadata": {},
     "output_type": "execute_result"
    }
   ],
   "source": [
    "df['Province'].value_counts().head(2)"
   ]
  },
  {
   "cell_type": "code",
   "execution_count": 136,
   "id": "4d937793",
   "metadata": {},
   "outputs": [
    {
     "name": "stdout",
     "output_type": "stream",
     "text": [
      "p val for claim 1.9751829406106745e-10\n",
      "p val for severity  0.0003136131508135969\n",
      "tstat {np.float64(-3.607517383360546)}\n",
      "we gona regect the null hypothesis  Western Cape has higher frequency  and severity of Cliams con: Total Premimum must be increase\n"
     ]
    }
   ],
   "source": [
    "from scipy import stats\n",
    "group_A=df[df['Province']=='Gauteng']\n",
    "group_b=df[df['Province']=='Western Cape']\n",
    "# has cliam is binary(0,1) so i use chisquaretest the rest ttest for 2 groups\n",
    "group_A=group_A.dropna(subset=['ClaimSeverity','margin'])\n",
    "group_b=group_b.dropna(subset=['ClaimSeverity','margin'])\n",
    "\n",
    "contigency_table=pd.crosstab(df['Province'].isin(['Gauteng', 'Western Cape']),df['HasClaim'])\n",
    "_,p_val_cliam,_,_=stats.chi2_contingency(contigency_table)\n",
    "t_stat,p_val_severity=stats.ttest_ind(group_A['ClaimSeverity'],group_b['ClaimSeverity'])\n",
    "print(f\"p val for claim {p_val_cliam}\")\n",
    "print(f'p val for severity  {p_val_severity}')\n",
    "print(f\"tstat\",{t_stat})\n",
    "if p_val_severity <0.05 and p_val_cliam <0.05:\n",
    "    print(\"we gona regect the null hypothesis  Western Cape has higher frequency  and severity of Cliams con: Total Premimum must be increase\")\n",
    "else:\n",
    "    print(\"ho is correct \")\n"
   ]
  },
  {
   "cell_type": "code",
   "execution_count": 118,
   "id": "d24210db",
   "metadata": {},
   "outputs": [
    {
     "name": "stdout",
     "output_type": "stream",
     "text": [
      "PostalCode\n",
      "2000    266462\n",
      "122      97471\n",
      "Name: count, dtype: int64\n"
     ]
    }
   ],
   "source": [
    "top_two_modes = df['PostalCode'].value_counts().head(2)\n",
    "print(top_two_modes)"
   ]
  },
  {
   "cell_type": "markdown",
   "id": "45fd927a",
   "metadata": {},
   "source": [
    "H₀:There are no risk differences between zip codes "
   ]
  },
  {
   "cell_type": "code",
   "execution_count": 137,
   "id": "2a73e992",
   "metadata": {},
   "outputs": [
    {
     "name": "stdout",
     "output_type": "stream",
     "text": [
      "p-value for HasClaim (Chi-square): 0.41705654044475926\n",
      "p-value for ClaimSeverity (t-test): 0.5534150456258154\n",
      "small number of sample we can not reject null hyposthesis \n"
     ]
    }
   ],
   "source": [
    "from scipy import stats\n",
    "import pandas as pd\n",
    "group_A = df[df['PostalCode'] == 122].copy()\n",
    "group_B = df[df['PostalCode'] == 2000].copy()\n",
    "group_A['ClaimSeverity'] = pd.to_numeric(group_A['ClaimSeverity'], errors='coerce')\n",
    "group_B['ClaimSeverity'] = pd.to_numeric(group_B['ClaimSeverity'], errors='coerce')\n",
    "group_A = group_A.dropna(subset=['HasClaim', 'ClaimSeverity'])\n",
    "group_B = group_B.dropna(subset=['HasClaim', 'ClaimSeverity'])\n",
    "chi_table = pd.crosstab(df['PostalCode'].isin(['122','2000']),df['HasClaim'])\n",
    "_, p_val_claim, _, _ = stats.chi2_contingency(chi_table)\n",
    "t_stat_severity, p_val_severity = stats.ttest_ind(group_A['ClaimSeverity'], group_B['ClaimSeverity'])\n",
    "\n",
    "print(f\"p-value for HasClaim (Chi-square): {p_val_claim}\")\n",
    "print(f\"p-value for ClaimSeverity (t-test): {p_val_severity}\")\n",
    "if p_val_severity and p_val_severity<0.05 :\n",
    "    print(\"we gona regect the null hypothesis  postalcode 2000 has higher frequency  and severity of Cliams con: Total Premimum must be increase\")\n",
    "else:\n",
    "    print(\"small number of sample we can not reject null hyposthesis \")\n"
   ]
  },
  {
   "cell_type": "markdown",
   "id": "5eadac46",
   "metadata": {},
   "source": [
    "There are no significant margin (profit) difference between zip codes "
   ]
  },
  {
   "cell_type": "code",
   "execution_count": 138,
   "id": "507aecd3",
   "metadata": {},
   "outputs": [
    {
     "name": "stdout",
     "output_type": "stream",
     "text": [
      "p val for claim 0.41705654044475926\n",
      "we gona regect the null hypothesis  Postalcode 2000  has higher frequency claim   and severity of Cliams con: Total Premimum must be increase\n"
     ]
    }
   ],
   "source": [
    "tstat,p_val_cliam=stats.ttest_ind(group_A['margin'],group_b['margin'])\n",
    "print(f\"p val for claim {p_val_claim}\")\n",
    " \n",
    "if p_val_cliam <0.05 :\n",
    "    print(\"we gona regect the null hypothesis  Postalcode 2000  has higher frequency claim   and severity of Cliams con: Total Premimum must be increase\")\n",
    "else:\n",
    "    print(\"small number of sample we can not reject null hyposthesis \")"
   ]
  },
  {
   "cell_type": "markdown",
   "id": "abd5e2b3",
   "metadata": {},
   "source": [
    "H₀:There are not significant risk difference between Women and Men"
   ]
  },
  {
   "cell_type": "code",
   "execution_count": null,
   "id": "c327efb9",
   "metadata": {},
   "outputs": [
    {
     "name": "stdout",
     "output_type": "stream",
     "text": [
      "p val for claim 0.00021550806538669622\n",
      "p val for severity  0.5521797732352693\n",
      "-3.607517383360546\n",
      "small number of sample we can not reject null hyposthesis \n"
     ]
    }
   ],
   "source": [
    "group_A=df[df['Gender']=='Male'].copy()\n",
    "group_b=df[df['Gender']=='Female'].copy()\n",
    "group_A['ClaimSeverity'] = pd.to_numeric(group_A['ClaimSeverity'], errors='coerce')\n",
    "group_b['ClaimSeverity'] = pd.to_numeric(group_b['ClaimSeverity'], errors='coerce')\n",
    "group_A = group_A.dropna(subset=['HasClaim', 'ClaimSeverity'])\n",
    "group_b = group_b.dropna(subset=['HasClaim', 'ClaimSeverity'])\n",
    "chi2_cont_table=pd.crosstab(df['Gender'].isin(['Male','Female']),df['HasClaim'])\n",
    "_,p_val_cliam,_,_=stats.chi2_contingency(chi2_cont_table)\n",
    "t_stat_severity,p_val_severity=stats.ttest_ind(group_A['ClaimSeverity'],group_b['ClaimSeverity'])\n",
    "print(f\"p val for claim {p_val_cliam}\")\n",
    "print(f'p val for severity  {p_val_severity}')\n",
    "print(f\"{t_stat}\")\n",
    "if p_val_cliam < 0.05:\n",
    "    print(\"Reject null: Claim frequency differs by gender  Gender make significant diffrence \")\n",
    "else:\n",
    "    print(\"Fail to reject: Claim frequency similar by gender\")\n",
    "\n",
    "if p_val_severity < 0.05:\n",
    "    print(\"Reject null: Claim severity differs by gender\")\n",
    "else:\n",
    "    print(\"Fail to reject: Claim severity similar by gender\")\n"
   ]
  },
  {
   "cell_type": "code",
   "execution_count": null,
   "id": "a374b1cc",
   "metadata": {},
   "outputs": [],
   "source": []
  }
 ],
 "metadata": {
  "kernelspec": {
   "display_name": "Python 3",
   "language": "python",
   "name": "python3"
  },
  "language_info": {
   "codemirror_mode": {
    "name": "ipython",
    "version": 3
   },
   "file_extension": ".py",
   "mimetype": "text/x-python",
   "name": "python",
   "nbconvert_exporter": "python",
   "pygments_lexer": "ipython3",
   "version": "3.13.4"
  }
 },
 "nbformat": 4,
 "nbformat_minor": 5
}
